{
 "cells": [
  {
   "cell_type": "markdown",
   "id": "0a6036f0",
   "metadata": {},
   "source": [
    "### what is Logging and why it is necessory?\n",
    "## How logging works in Python\n",
    "## Lots of examples"
   ]
  },
  {
   "cell_type": "markdown",
   "id": "2e900204",
   "metadata": {},
   "source": [
    "visitors log book fo library..\n",
    "\n",
    "name, time in, time out,reson to visit..\n",
    "we can get the data in logbook\n",
    "like 2 -3 pm on book was stollen.. so who entered in that timing?\n",
    "\n"
   ]
  },
  {
   "cell_type": "markdown",
   "id": "3bedd994",
   "metadata": {},
   "source": [
    "Eg:\n",
    "    you have a python based application\n",
    "    it has some modules like:\n",
    "       Shopping application:\n",
    "        \n",
    "        1.sign up\n",
    "        2. cart/filter\n",
    "        3. purchase\n",
    "        4. payment\n",
    "        5. track ordes\n",
    "        6. taking feedback of user\n",
    "        \n",
    "        \n",
    "when apllication will be live..it will maintain a log book\n",
    "1. [time] signup started\n",
    "2. [time] signup completed\n",
    "3. [time] login started\n",
    "4. [time] login completed\n",
    "5. [time] carted items\n",
    "6. [time] filters selected\n",
    "7. [time] applyng filters\n",
    "8. [time] ERROR:[Exception messgae]\n",
    "\n",
    "developer will easyly guess that applying filters error was occured\n",
    "\n",
    "and this way we can track the events.\n",
    "\n",
    "logbook maintained in python by logging module.\n",
    "\n",
    "    "
   ]
  },
  {
   "cell_type": "markdown",
   "id": "246ec265",
   "metadata": {},
   "source": [
    "### What is Logging?"
   ]
  },
  {
   "cell_type": "markdown",
   "id": "e127311e",
   "metadata": {},
   "source": [
    "1. Logging is used to track events that occur in software when it runs.\n",
    "2. it is used in development , debugging, testing etc.\n",
    "3. Logging is useful to track the error or exception or information.\n",
    "4. Logging module can be used with framework like django,flask etc."
   ]
  },
  {
   "cell_type": "markdown",
   "id": "4f205b46",
   "metadata": {},
   "source": [
    "### What is if there is no logging"
   ]
  },
  {
   "cell_type": "raw",
   "id": "116941e2",
   "metadata": {},
   "source": [
    "RCA: Root cause Analysis\n",
    "    it may take long time if logging is not maintain\n",
    "difficulty in dubugging \n"
   ]
  },
  {
   "cell_type": "markdown",
   "id": "39059f67",
   "metadata": {},
   "source": [
    "#### What probplems can software face"
   ]
  },
  {
   "cell_type": "markdown",
   "id": "d3e5dc21",
   "metadata": {},
   "source": [
    "1. exceptions present in that programming language.\n",
    "2.network issues n connection issues.\n",
    "3. access denied issues like permission issues\n",
    "4. sever down \n",
    "5. file not found"
   ]
  },
  {
   "cell_type": "markdown",
   "id": "8c713fc9",
   "metadata": {},
   "source": [
    "#### How logging works in Python"
   ]
  },
  {
   "cell_type": "markdown",
   "id": "9a089ec6",
   "metadata": {},
   "source": [
    "1. Logging levels.\n",
    "2. How to relese log messages\n",
    "3. Creating a logbook\n"
   ]
  },
  {
   "cell_type": "markdown",
   "id": "c1a5054a",
   "metadata": {},
   "source": [
    "we need to import the logging module as follows.\n",
    "\n",
    "  import logging Or from logging import *    # (*=everything)\n",
    "    "
   ]
  },
  {
   "cell_type": "markdown",
   "id": "73eb7e17",
   "metadata": {},
   "source": [
    "#### Logging Levels.\n",
    "1. DEBUG: Relese information useful for debugging purpose.\n",
    "  eg: which server, DB, which database hase been connected , uername? password?\n",
    "\n",
    "2. INFO: Provides the information regarding that things are working as we want.\n",
    "  eg : what is exactly been done in software\n",
    "3. WARNING: used to warn that something happened unexpectedly.\n",
    "  eg: \n",
    "4. Eror: used to inform when we are in sme serios trouble.\n",
    "5. CRITICAL : used to inform when we are in some serious trouble.\n",
    "\n",
    "Integers for levels\n",
    "1. NOTSET :0\n",
    "2. DEBUG : 10\n",
    "3. INFO  : 20\n",
    "4. WARNING : 30\n",
    "5. ERROR:    40\n",
    "6. CRITICAL : 50\n",
    "\n",
    "##### Some functions in Logging Module:\n",
    "\n",
    "debug()\n",
    "\n",
    "info()\n",
    "\n",
    "warning()\n",
    "\n",
    "error()\n",
    "\n",
    "critical()\n",
    "\n",
    "exception()\n"
   ]
  },
  {
   "cell_type": "code",
   "execution_count": 1,
   "id": "217382a4",
   "metadata": {},
   "outputs": [],
   "source": [
    "import logging"
   ]
  },
  {
   "cell_type": "code",
   "execution_count": 2,
   "id": "5740e4fa",
   "metadata": {},
   "outputs": [
    {
     "name": "stderr",
     "output_type": "stream",
     "text": [
      "WARNING:root:the warning msg is displayed\n",
      "ERROR:root:The error msg is didplayed\n",
      "CRITICAL:root: The critical msg is displayed\n"
     ]
    }
   ],
   "source": [
    "logging.debug(\"The Demo meg for DEBUG\")\n",
    "logging.info(\" module 2 got completed and module 3 started\")\n",
    "logging.warning('the warning msg is displayed')\n",
    "logging.error(\"The error msg is didplayed\")\n",
    "logging.critical(\" The critical msg is displayed\")\n"
   ]
  },
  {
   "cell_type": "markdown",
   "id": "75429023",
   "metadata": {},
   "source": [
    "By default level of message display level is warning.\n",
    "means the messgaes of warning and above will be printed or displayed on the screen if level is not defined.\n",
    "\n",
    "means 30,40 and 50\n"
   ]
  },
  {
   "cell_type": "code",
   "execution_count": 9,
   "id": "31637fd4",
   "metadata": {},
   "outputs": [
    {
     "name": "stderr",
     "output_type": "stream",
     "text": [
      "WARNING:root:the warning msg is displayed\n",
      "ERROR:root:The error msg is didplayed\n",
      "CRITICAL:root: The critical msg is displayed\n"
     ]
    }
   ],
   "source": [
    "#to set the level.\n",
    "import logging\n",
    "logging.basicConfig(level=logging.DEBUG)\n",
    "logging.debug(\"The Demo meg for DEBUG\")\n",
    "logging.info(\" module 2 got completed and module 3 started\")\n",
    "logging.warning('the warning msg is displayed')\n",
    "logging.error(\"The error msg is didplayed\")\n",
    "logging.critical(\" The critical msg is displayed\")"
   ]
  },
  {
   "cell_type": "code",
   "execution_count": null,
   "id": "18359f9a",
   "metadata": {},
   "outputs": [],
   "source": [
    "# If you dont want to write logging everytime.\n",
    "# Just change the type of import file..\n",
    "from logging import * #* means everything\n",
    "\n",
    "basicConfig(level=DEBUG)\n",
    "debug(\"The Demo meg for DEBUG\")\n",
    "info(\" module 2 got completed and module 3 started\")\n",
    "warning('the warning msg is displayed')\n",
    "error(\"The error msg is didplayed\")\n",
    "critical(\" The critical msg is displayed\")"
   ]
  },
  {
   "cell_type": "markdown",
   "id": "7c5f7f85",
   "metadata": {},
   "source": [
    "In the messages u will find the format as \n",
    "\n",
    "level: name: messgae\n",
    "\n",
    " eg: WARNING : ROOT: the warning msg is didplayed.\n",
    " \n",
    " level: WARNING\n",
    " root: u can give the module name as well\n",
    " \n",
    " \n",
    " Now if i want to save these msgs in log file then\n",
    " in the line of code below\n",
    " \n",
    "besicConfig(filename='app.log',level=DEBUG)"
   ]
  },
  {
   "cell_type": "code",
   "execution_count": null,
   "id": "9ae642d4",
   "metadata": {},
   "outputs": [],
   "source": [
    "from logging import * #* means everything\n",
    "\n",
    "basicConfig(filename='app.log',level=DEBUG)   # this will create a log file in which all msgs will be printed.\n",
    "# Please check with Pycharm \n",
    "debug(\"The Demo meg for DEBUG\")\n",
    "info(\" module 2 got completed and module 3 started\")\n",
    "warning('the warning msg is displayed')\n",
    "error(\"The error msg is didplayed\")\n",
    "critical(\" The critical msg is displayed\")"
   ]
  },
  {
   "cell_type": "markdown",
   "id": "04cfd5d7",
   "metadata": {},
   "source": [
    "### Formatting logs in Python"
   ]
  },
  {
   "cell_type": "markdown",
   "id": "472297cc",
   "metadata": {},
   "source": [
    "1. How to change format of log massages?\n",
    "2. How to add date & time in Log messgaes?\n"
   ]
  },
  {
   "cell_type": "code",
   "execution_count": null,
   "id": "d9e90332",
   "metadata": {},
   "outputs": [],
   "source": [
    "import logging\n",
    "logging.basicConfig(filename='app.log',level=logging.DEBUG)\n",
    "logging.debug(\"The Demo meg for DEBUG\")\n",
    "logging.info(\" module 2 got completed and module 3 started\")\n",
    "logging.warning('the warning msg is displayed')\n",
    "logging.error(\"The error msg is didplayed\")\n",
    "logging.critical(\" The critical msg is displayed\")"
   ]
  },
  {
   "cell_type": "raw",
   "id": "fc0cc439",
   "metadata": {},
   "source": [
    "# In app.log File  you can check the following msgs\n",
    "# (First time run)\n",
    "DEBUG:root:The Demo meg for DEBUG\n",
    "INFO:root: module 2 got completed and module 3 started\n",
    "WARNING:root:the warning msg is displayed\n",
    "ERROR:root:The error msg is didplayed\n",
    "CRITICAL:root: The critical msg is displayed\n",
    "\n",
    "# (second time Run)       \n",
    "\n",
    "DEBUG:root:The Demo meg for DEBUG\n",
    "INFO:root: module 2 got completed and module 3 started\n",
    "WARNING:root:the warning msg is displayed\n",
    "ERROR:root:The error msg is didplayed\n",
    "CRITICAL:root: The critical msg is displayed\n",
    "\n",
    "\n",
    "The file is in append mode that is after each excution of main file it will load the log messages in to app.log file..\n",
    "\n",
    "By Default the mode of operation of a file is 'append' mode.\n",
    "You can change the 'a' mode to 'w' ie. write mode.\n",
    "\n",
    "This will errase the previous data of file and over write the contents. \n",
    "\n",
    "make the chnges to change the code as follows:\n",
    "logging.basicConfig(filename='app.log',level=logging.DEBUG,filemode='w')"
   ]
  },
  {
   "cell_type": "code",
   "execution_count": null,
   "id": "40fd07e4",
   "metadata": {},
   "outputs": [],
   "source": [
    "import logging\n",
    "logging.basicConfig(filename='app.log',level=logging.DEBUG,filemode='w')\n",
    "logging.debug(\"The Demo meg for DEBUG\")\n",
    "logging.info(\" module 2 got completed and module 3 started\")\n",
    "logging.warning('the warning msg is displayed')\n",
    "logging.error(\"The error msg is didplayed\")\n",
    "logging.critical(\" The critical msg is displayed\")"
   ]
  },
  {
   "cell_type": "raw",
   "id": "fdf45607",
   "metadata": {},
   "source": [
    "# App.log File\n",
    "DEBUG:root:The Demo meg for DEBUG\n",
    "INFO:root: module 2 got completed and module 3 started\n",
    "WARNING:root:the warning msg is displayed\n",
    "ERROR:root:The error msg is didplayed\n",
    "CRITICAL:root: The critical msg is displayed"
   ]
  },
  {
   "cell_type": "markdown",
   "id": "1798c793",
   "metadata": {},
   "source": [
    "#### How to change the format of log message\n"
   ]
  },
  {
   "cell_type": "code",
   "execution_count": 4,
   "id": "4940eb2b",
   "metadata": {},
   "outputs": [
    {
     "name": "stderr",
     "output_type": "stream",
     "text": [
      "WARNING:root:the warning msg is displayed\n",
      "ERROR:root:The error msg is didplayed\n",
      "CRITICAL:root: The critical msg is displayed\n"
     ]
    }
   ],
   "source": [
    "import logging\n",
    "logging.basicConfig(filename='app.log',\n",
    "                   level=logging.DEBUG,\n",
    "                   filemode='w',\n",
    "                   format=\"%(message)s:%(levelname)s:%(name)s\")\n",
    "logging.debug(\"The Demo meg for DEBUG\")\n",
    "logging.info(\" module 2 got completed and module 3 started\")\n",
    "logging.warning('the warning msg is displayed')\n",
    "logging.error(\"The error msg is didplayed\")\n",
    "logging.critical(\" The critical msg is displayed\")"
   ]
  },
  {
   "cell_type": "raw",
   "id": "6a444490",
   "metadata": {},
   "source": [
    "# App.log File\n",
    "# First message then level name n then name of logger\n",
    "\n",
    "The Demo meg for DEBUG:DEBUG:root\n",
    " module 2 got completed and module 3 started:INFO:root\n",
    "the warning msg is displayed:WARNING:root\n",
    "The error msg is didplayed:ERROR:root\n",
    " The critical msg is displayed:CRITICAL:root"
   ]
  },
  {
   "cell_type": "code",
   "execution_count": 5,
   "id": "94344ca4",
   "metadata": {},
   "outputs": [
    {
     "name": "stderr",
     "output_type": "stream",
     "text": [
      "WARNING:root:the warning msg is displayed\n",
      "ERROR:root:The error msg is didplayed\n",
      "CRITICAL:root: The critical msg is displayed\n"
     ]
    }
   ],
   "source": [
    "import logging\n",
    "logging.basicConfig(filename='app.log',\n",
    "                   level=logging.DEBUG,\n",
    "                   filemode='w',\n",
    "                   format=\"%(name)s:%(messgae)s:%(levelname)s\")\n",
    "logging.debug(\"The Demo meg for DEBUG\")\n",
    "logging.info(\" module 2 got completed and module 3 started\")\n",
    "logging.warning('the warning msg is displayed')\n",
    "logging.error(\"The error msg is didplayed\")\n",
    "logging.critical(\" The critical msg is displayed\")"
   ]
  },
  {
   "cell_type": "raw",
   "id": "d23788eb",
   "metadata": {},
   "source": [
    "# App.log File\n",
    "# format=\"%(name)s:%(messgae)s:%(levelname)s\"\n",
    "\n",
    "\n",
    "root:The Demo meg for DEBUG:DEBUG\n",
    "root: module 2 got completed and module 3 started:INFO\n",
    "root:the warning msg is displayed:WARNING\n",
    "root:The error msg is didplayed:ERROR\n",
    "root: The critical msg is displayed:CRITICAL\n"
   ]
  },
  {
   "cell_type": "markdown",
   "id": "2c8160f3",
   "metadata": {},
   "source": [
    "#### How to log Process ID   \n",
    "Process ID is used for Execution.\n",
    "one processid for one execution.\n",
    "It changes every time you execute the program.\n",
    "\n",
    "Its Used for debugging\n",
    "u can add line number as well\n"
   ]
  },
  {
   "cell_type": "code",
   "execution_count": 6,
   "id": "6d324abc",
   "metadata": {},
   "outputs": [
    {
     "name": "stderr",
     "output_type": "stream",
     "text": [
      "WARNING:root:the warning msg is displayed\n",
      "ERROR:root:The error msg is didplayed\n",
      "CRITICAL:root: The critical msg is displayed\n"
     ]
    }
   ],
   "source": [
    "#log Process ID\n",
    "import logging\n",
    "logging.basicConfig(filename='app.log',\n",
    "                   level=logging.DEBUG,\n",
    "                   filemode='w',\n",
    "                   format=\"%(name)s:%(message)s:%(levelname)s:%(process)s:%(lineno)s\")\n",
    "logging.debug(\"The Demo meg for DEBUG\")\n",
    "logging.info(\" module 2 got completed and module 3 started\")\n",
    "logging.warning('the warning msg is displayed')\n",
    "logging.error(\"The error msg is didplayed\")\n",
    "logging.critical(\" The critical msg is displayed\")"
   ]
  },
  {
   "cell_type": "raw",
   "id": "b710ab32",
   "metadata": {},
   "source": [
    "# App.log\n",
    "# process ID with line number is printed in log file.\n",
    "\n",
    "\n",
    "root:The Demo meg for DEBUG:DEBUG:12896:7\n",
    "root: module 2 got completed and module 3 started:INFO:12896:8\n",
    "root:the warning msg is displayed:WARNING:12896:9\n",
    "root:The error msg is didplayed:ERROR:12896:10\n",
    "root: The critical msg is displayed:CRITICAL:12896:11\n"
   ]
  },
  {
   "cell_type": "markdown",
   "id": "481ffed6",
   "metadata": {},
   "source": [
    "#### How to add Date & time:\n",
    "generally Date & time are added at the begining of log message.\n"
   ]
  },
  {
   "cell_type": "code",
   "execution_count": 7,
   "id": "60ad10bf",
   "metadata": {},
   "outputs": [
    {
     "name": "stderr",
     "output_type": "stream",
     "text": [
      "WARNING:root:the warning msg is displayed\n",
      "ERROR:root:The error msg is didplayed\n",
      "CRITICAL:root: The critical msg is displayed\n"
     ]
    }
   ],
   "source": [
    "import logging\n",
    "logging.basicConfig(filename='app.log',\n",
    "                   level=logging.DEBUG,\n",
    "                   filemode='w',\n",
    "                   format=\"%(asctime)s:%(name)s:%(message)s:%(levelname)s:%(process)s:%(lineno)s\")\n",
    "logging.debug(\"The Demo meg for DEBUG\")\n",
    "logging.info(\" module 2 got completed and module 3 started\")\n",
    "logging.warning('the warning msg is displayed')\n",
    "logging.error(\"The error msg is didplayed\")\n",
    "logging.critical(\" The critical msg is displayed\")"
   ]
  },
  {
   "cell_type": "raw",
   "id": "838893eb",
   "metadata": {},
   "source": [
    "# App.log File:\n",
    "\n",
    "2023-03-17 23:48:20,114:root:The Demo meg for DEBUG:DEBUG:13764:7\n",
    "2023-03-17 23:48:20,114:root: module 2 got completed and module 3 started:INFO:13764:8\n",
    "2023-03-17 23:48:20,115:root:the warning msg is displayed:WARNING:13764:9\n",
    "2023-03-17 23:48:20,115:root:The error msg is didplayed:ERROR:13764:10\n",
    "2023-03-17 23:48:20,115:root: The critical msg is displayed:CRITICAL:13764:11"
   ]
  },
  {
   "cell_type": "code",
   "execution_count": 8,
   "id": "970fdd1c",
   "metadata": {},
   "outputs": [
    {
     "name": "stderr",
     "output_type": "stream",
     "text": [
      "WARNING:root:the warning msg is displayed\n",
      "ERROR:root:The error msg is didplayed\n",
      "CRITICAL:root: The critical msg is displayed\n"
     ]
    }
   ],
   "source": [
    "# chage the date time format in display in above log file.\n",
    "import logging\n",
    "logging.basicConfig(filename='app.log',\n",
    "                   level=logging.DEBUG,\n",
    "                   filemode='w',\n",
    "                   format=\"%(asctime)s:%(name)s:%(message)s:%(levelname)s:%(process)s:%(lineno)s\",\n",
    "                   datefmt='%d-%b-%y %H:%M:%S')\n",
    "logging.debug(\"The Demo meg for DEBUG\")\n",
    "logging.info(\" module 2 got completed and module 3 started\")\n",
    "logging.warning('the warning msg is displayed')\n",
    "logging.error(\"The error msg is didplayed\")\n",
    "logging.critical(\" The critical msg is displayed\")"
   ]
  },
  {
   "cell_type": "raw",
   "id": "de82a388",
   "metadata": {},
   "source": [
    "# App.log File\n",
    "\n",
    "17-Mar-23 23:56:51:root:The Demo meg for DEBUG:DEBUG:9976:8\n",
    "17-Mar-23 23:56:51:root: module 2 got completed and module 3 started:INFO:9976:9\n",
    "17-Mar-23 23:56:51:root:the warning msg is displayed:WARNING:9976:10\n",
    "17-Mar-23 23:56:51:root:The error msg is didplayed:ERROR:9976:11\n",
    "17-Mar-23 23:56:51:root: The critical msg is displayed:CRITICAL:9976:12"
   ]
  },
  {
   "cell_type": "markdown",
   "id": "d8de23ef",
   "metadata": {},
   "source": [
    " \n"
   ]
  },
  {
   "cell_type": "markdown",
   "id": "7930e325",
   "metadata": {},
   "source": [
    "#### Log Exception Details."
   ]
  },
  {
   "cell_type": "markdown",
   "id": "d6337355",
   "metadata": {},
   "source": [
    "1. how to log Exception details?\n",
    "2. Examples.\n"
   ]
  },
  {
   "cell_type": "code",
   "execution_count": 12,
   "id": "7f1d699f",
   "metadata": {},
   "outputs": [
    {
     "name": "stdout",
     "output_type": "stream",
     "text": [
      "Enter your age:hrll\n"
     ]
    },
    {
     "ename": "ValueError",
     "evalue": "invalid literal for int() with base 10: 'hrll'",
     "output_type": "error",
     "traceback": [
      "\u001b[1;31m---------------------------------------------------------------------------\u001b[0m",
      "\u001b[1;31mValueError\u001b[0m                                Traceback (most recent call last)",
      "\u001b[1;32m~\\AppData\\Local\\Temp\\ipykernel_9016\\4109990455.py\u001b[0m in \u001b[0;36m<module>\u001b[1;34m\u001b[0m\n\u001b[0;32m      2\u001b[0m logging.basicConfig(level=logging.DEBUG,filename='app.log',\n\u001b[0;32m      3\u001b[0m                    filemode='w')\n\u001b[1;32m----> 4\u001b[1;33m \u001b[0mage\u001b[0m\u001b[1;33m=\u001b[0m\u001b[0mint\u001b[0m\u001b[1;33m(\u001b[0m\u001b[0minput\u001b[0m\u001b[1;33m(\u001b[0m\u001b[1;34m\"Enter your age:\"\u001b[0m\u001b[1;33m)\u001b[0m\u001b[1;33m)\u001b[0m\u001b[1;31m#21\u001b[0m\u001b[1;33m\u001b[0m\u001b[1;33m\u001b[0m\u001b[0m\n\u001b[0m",
      "\u001b[1;31mValueError\u001b[0m: invalid literal for int() with base 10: 'hrll'"
     ]
    }
   ],
   "source": [
    "import logging\n",
    "logging.basicConfig(level=logging.DEBUG,filename='app.log',\n",
    "                   filemode='w')\n",
    "age=int(input(\"Enter your age:\"))#21\n"
   ]
  },
  {
   "cell_type": "markdown",
   "id": "e9ef4f14",
   "metadata": {},
   "source": [
    "now instead of facing an error an interrupt the code, we will put this msg in the log file as a record.\n",
    "we will use exception handling"
   ]
  },
  {
   "cell_type": "code",
   "execution_count": 13,
   "id": "cbb79a54",
   "metadata": {},
   "outputs": [
    {
     "name": "stdout",
     "output_type": "stream",
     "text": [
      "Enter your age: hrll\n",
      "invalid literal for int() with base 10: 'hrll'\n"
     ]
    }
   ],
   "source": [
    "import logging\n",
    "logging.basicConfig(level=logging.DEBUG,filename='app.log',\n",
    "                   filemode='w')\n",
    "try:\n",
    "    age=int(input(\"Enter your age: \"))\n",
    "except Exception as e:\n",
    "    print(e)"
   ]
  },
  {
   "cell_type": "markdown",
   "id": "2a96e324",
   "metadata": {},
   "source": [
    "Now tis is an error msg hence we will use error function in logging so that it will print the error msg in log file app.log"
   ]
  },
  {
   "cell_type": "code",
   "execution_count": 14,
   "id": "a08b5197",
   "metadata": {},
   "outputs": [
    {
     "name": "stdout",
     "output_type": "stream",
     "text": [
      "Enter your age: kjkjk\n"
     ]
    },
    {
     "name": "stderr",
     "output_type": "stream",
     "text": [
      "ERROR:root:invalid literal for int() with base 10: 'kjkjk'\n"
     ]
    }
   ],
   "source": [
    "import logging\n",
    "logging.basicConfig(level=logging.DEBUG,filename='app.log',\n",
    "                   filemode='w')\n",
    "try:\n",
    "    age=int(input(\"Enter your age: \"))\n",
    "except Exception as e:\n",
    "    logging.error(e)"
   ]
  },
  {
   "cell_type": "code",
   "execution_count": 15,
   "id": "33a715c8",
   "metadata": {},
   "outputs": [
    {
     "name": "stdout",
     "output_type": "stream",
     "text": [
      "Enter your age: jhjk\n"
     ]
    },
    {
     "name": "stderr",
     "output_type": "stream",
     "text": [
      "ERROR:root:Exception Details: \n",
      "Traceback (most recent call last):\n",
      "  File \"C:\\Users\\HP\\AppData\\Local\\Temp\\ipykernel_9016\\652328632.py\", line 6, in <module>\n",
      "    age=int(input(\"Enter your age: \"))\n",
      "ValueError: invalid literal for int() with base 10: 'jhjk'\n"
     ]
    }
   ],
   "source": [
    "# Now if u want all details of this error msg then\n",
    "import logging\n",
    "logging.basicConfig(level=logging.DEBUG,filename='app.log',\n",
    "                   filemode='w')\n",
    "try:\n",
    "    age=int(input(\"Enter your age: \"))\n",
    "except Exception as e:\n",
    "    logging.error(\"Exception Details: \",exc_info=True)# its a keyword arg of false as default value.."
   ]
  },
  {
   "cell_type": "code",
   "execution_count": null,
   "id": "fa894c6a",
   "metadata": {},
   "outputs": [],
   "source": []
  }
 ],
 "metadata": {
  "kernelspec": {
   "display_name": "Python 3 (ipykernel)",
   "language": "python",
   "name": "python3"
  },
  "language_info": {
   "codemirror_mode": {
    "name": "ipython",
    "version": 3
   },
   "file_extension": ".py",
   "mimetype": "text/x-python",
   "name": "python",
   "nbconvert_exporter": "python",
   "pygments_lexer": "ipython3",
   "version": "3.9.13"
  }
 },
 "nbformat": 4,
 "nbformat_minor": 5
}
