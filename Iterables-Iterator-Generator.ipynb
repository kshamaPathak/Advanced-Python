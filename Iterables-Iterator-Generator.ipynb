{
 "cells": [
  {
   "cell_type": "markdown",
   "id": "7c860dca",
   "metadata": {},
   "source": [
    "### Iterator"
   ]
  },
  {
   "cell_type": "code",
   "execution_count": 1,
   "id": "61293cf6",
   "metadata": {},
   "outputs": [],
   "source": [
    "l=[1,2,3,3,4]\n",
    " \n",
    "\n"
   ]
  },
  {
   "cell_type": "code",
   "execution_count": 2,
   "id": "73f61778",
   "metadata": {},
   "outputs": [
    {
     "name": "stdout",
     "output_type": "stream",
     "text": [
      "1\n",
      "2\n",
      "3\n",
      "3\n",
      "4\n"
     ]
    }
   ],
   "source": [
    "for i in l:\n",
    "    print(i)"
   ]
  },
  {
   "cell_type": "code",
   "execution_count": 3,
   "id": "0ae83055",
   "metadata": {},
   "outputs": [
    {
     "ename": "TypeError",
     "evalue": "'list' object is not an iterator",
     "output_type": "error",
     "traceback": [
      "\u001b[1;31m---------------------------------------------------------------------------\u001b[0m",
      "\u001b[1;31mTypeError\u001b[0m                                 Traceback (most recent call last)",
      "\u001b[1;32m~\\AppData\\Local\\Temp\\ipykernel_15592\\1627635471.py\u001b[0m in \u001b[0;36m<module>\u001b[1;34m\u001b[0m\n\u001b[0;32m      1\u001b[0m \u001b[1;31m# how for loop is trying to extract data one by one.\u001b[0m\u001b[1;33m\u001b[0m\u001b[1;33m\u001b[0m\u001b[0m\n\u001b[0;32m      2\u001b[0m \u001b[1;31m# inbuilt function\u001b[0m\u001b[1;33m\u001b[0m\u001b[1;33m\u001b[0m\u001b[0m\n\u001b[1;32m----> 3\u001b[1;33m \u001b[0mnext\u001b[0m\u001b[1;33m(\u001b[0m\u001b[0ml\u001b[0m\u001b[1;33m)\u001b[0m\u001b[1;33m\u001b[0m\u001b[1;33m\u001b[0m\u001b[0m\n\u001b[0m\u001b[0;32m      4\u001b[0m \u001b[1;31m# trys to give values one by one..\u001b[0m\u001b[1;33m\u001b[0m\u001b[1;33m\u001b[0m\u001b[0m\n",
      "\u001b[1;31mTypeError\u001b[0m: 'list' object is not an iterator"
     ]
    }
   ],
   "source": [
    "# how for loop is trying to extract data one by one.\n",
    "# inbuilt function \n",
    "next(l)\n",
    "# trys to give values one by one..\n"
   ]
  },
  {
   "cell_type": "code",
   "execution_count": null,
   "id": "a2a593a2",
   "metadata": {},
   "outputs": [],
   "source": [
    "b=iter(l)\n",
    "l"
   ]
  },
  {
   "cell_type": "code",
   "execution_count": null,
   "id": "c0808b42",
   "metadata": {},
   "outputs": [],
   "source": [
    "b"
   ]
  },
  {
   "cell_type": "code",
   "execution_count": null,
   "id": "fdd7d701",
   "metadata": {},
   "outputs": [],
   "source": [
    "next(b)"
   ]
  },
  {
   "cell_type": "code",
   "execution_count": null,
   "id": "2102545a",
   "metadata": {},
   "outputs": [],
   "source": [
    "next(b)"
   ]
  },
  {
   "cell_type": "code",
   "execution_count": null,
   "id": "097b2cb1",
   "metadata": {},
   "outputs": [],
   "source": [
    "next(b)\n"
   ]
  },
  {
   "cell_type": "code",
   "execution_count": null,
   "id": "2a9a0045",
   "metadata": {},
   "outputs": [],
   "source": [
    "next(b)"
   ]
  },
  {
   "cell_type": "code",
   "execution_count": null,
   "id": "f37abb1e",
   "metadata": {},
   "outputs": [],
   "source": [
    "next(b)"
   ]
  },
  {
   "cell_type": "code",
   "execution_count": null,
   "id": "b2744a3d",
   "metadata": {},
   "outputs": [],
   "source": [
    "next(b)"
   ]
  },
  {
   "cell_type": "code",
   "execution_count": null,
   "id": "384fa3d4",
   "metadata": {},
   "outputs": [],
   "source": [
    "next(b)"
   ]
  },
  {
   "cell_type": "code",
   "execution_count": null,
   "id": "e342133e",
   "metadata": {},
   "outputs": [],
   "source": [
    "next(b)"
   ]
  },
  {
   "cell_type": "markdown",
   "id": "627e0de1",
   "metadata": {},
   "source": [
    "## Iterable"
   ]
  },
  {
   "cell_type": "markdown",
   "id": "18b24766",
   "metadata": {},
   "source": [
    "in a list i can extract the data but i cant extract data using next().\n"
   ]
  },
  {
   "cell_type": "markdown",
   "id": "ab4a89f1",
   "metadata": {},
   "source": [
    "lists,dict,set,tuples are iterables.\n",
    "means all values are getting memory allocations \n",
    "when we extract the values these values are called from that memory location."
   ]
  },
  {
   "cell_type": "markdown",
   "id": "6c7da5b5",
   "metadata": {},
   "source": [
    "### Iterators"
   ]
  },
  {
   "cell_type": "markdown",
   "id": "7c4a5ac3",
   "metadata": {},
   "source": [
    "iter() fuction will convert list ie iterable items in to iterators.\n"
   ]
  },
  {
   "cell_type": "code",
   "execution_count": null,
   "id": "56991a27",
   "metadata": {},
   "outputs": [],
   "source": [
    "iter(l)"
   ]
  },
  {
   "cell_type": "markdown",
   "id": "117a4abc",
   "metadata": {},
   "source": [
    "its showing that l is now an iterator..\n",
    "it means we have converted in to iterators ie. its not saved in to memory location but if we call its values by using next () function the very next item inside it will be accessed one by one from left to right with the help of a pointer "
   ]
  },
  {
   "cell_type": "markdown",
   "id": "8337a505",
   "metadata": {},
   "source": [
    "Properties of iterables : \n",
    "1. saves items in different memory location\n",
    "    "
   ]
  },
  {
   "cell_type": "markdown",
   "id": "b3851262",
   "metadata": {},
   "source": [
    "Iterators properties.\n",
    "1. not all values are initialized in the memory location.. as we call the values using next function then n then only the next value in the list is called."
   ]
  },
  {
   "cell_type": "code",
   "execution_count": null,
   "id": "1601ac15",
   "metadata": {},
   "outputs": [],
   "source": [
    "iter(l)"
   ]
  },
  {
   "cell_type": "code",
   "execution_count": null,
   "id": "87c9e0cd",
   "metadata": {},
   "outputs": [],
   "source": [
    "list1=iter(l)"
   ]
  },
  {
   "cell_type": "code",
   "execution_count": null,
   "id": "86f5c480",
   "metadata": {},
   "outputs": [],
   "source": [
    "list1"
   ]
  },
  {
   "cell_type": "code",
   "execution_count": null,
   "id": "58034d06",
   "metadata": {},
   "outputs": [],
   "source": [
    "# how to retrive the elements or c the elements\n",
    "next(list1)"
   ]
  },
  {
   "cell_type": "code",
   "execution_count": null,
   "id": "7bd5cb4d",
   "metadata": {},
   "outputs": [],
   "source": [
    "next(list1)\n"
   ]
  },
  {
   "cell_type": "code",
   "execution_count": null,
   "id": "71c71b63",
   "metadata": {},
   "outputs": [],
   "source": [
    "next(list1)"
   ]
  },
  {
   "cell_type": "code",
   "execution_count": null,
   "id": "50a88a21",
   "metadata": {},
   "outputs": [],
   "source": [
    "next(list1)"
   ]
  },
  {
   "cell_type": "code",
   "execution_count": null,
   "id": "9c2588d8",
   "metadata": {},
   "outputs": [],
   "source": [
    "next(list1)"
   ]
  },
  {
   "cell_type": "code",
   "execution_count": null,
   "id": "26b13cb7",
   "metadata": {},
   "outputs": [],
   "source": [
    "next(list1)  # when this function called only the value coming next will be initialized by the interpretor.\n"
   ]
  },
  {
   "cell_type": "code",
   "execution_count": null,
   "id": "9e026b30",
   "metadata": {},
   "outputs": [],
   "source": [
    "# stopIteration error means list is over.."
   ]
  },
  {
   "cell_type": "markdown",
   "id": "94313d7c",
   "metadata": {},
   "source": [
    "advantage is u can save the millions of items in memory we can convert it to iterators."
   ]
  },
  {
   "cell_type": "code",
   "execution_count": null,
   "id": "45e8a4c1",
   "metadata": {},
   "outputs": [],
   "source": [
    "for i in list1:\n",
    "    print(i)\n",
    "# in for loop exception of stop Iteration has itself done so we dont get an error..\n"
   ]
  },
  {
   "cell_type": "markdown",
   "id": "3779e3fd",
   "metadata": {},
   "source": [
    "Only iterable items can be converted in to iterators"
   ]
  },
  {
   "cell_type": "code",
   "execution_count": null,
   "id": "532fbcaa",
   "metadata": {},
   "outputs": [],
   "source": [
    "# int var are not iterable.\n",
    "#  for loop first convert into iterator n then call the values..\n",
    "# thats the reason iterable items are worked or extracted into iterator.\n",
    "# object must be iterable \n",
    "for i in 435678:\n",
    "    print(i)"
   ]
  },
  {
   "cell_type": "code",
   "execution_count": null,
   "id": "25aa6873",
   "metadata": {},
   "outputs": [],
   "source": [
    "s='kshama'  # strings are iterable.. but not iterator\n",
    "next(s)"
   ]
  },
  {
   "cell_type": "code",
   "execution_count": null,
   "id": "6814fd03",
   "metadata": {},
   "outputs": [],
   "source": [
    "s=iter(s)"
   ]
  },
  {
   "cell_type": "code",
   "execution_count": null,
   "id": "c3829ffc",
   "metadata": {},
   "outputs": [],
   "source": [
    "next(s)"
   ]
  },
  {
   "cell_type": "code",
   "execution_count": null,
   "id": "bdef8cae",
   "metadata": {},
   "outputs": [],
   "source": [
    "next(s)"
   ]
  },
  {
   "cell_type": "code",
   "execution_count": null,
   "id": "5c0792f9",
   "metadata": {},
   "outputs": [],
   "source": [
    "next(s)"
   ]
  },
  {
   "cell_type": "code",
   "execution_count": null,
   "id": "d9c19177",
   "metadata": {},
   "outputs": [],
   "source": [
    "next(s)"
   ]
  },
  {
   "cell_type": "code",
   "execution_count": null,
   "id": "ac382dcf",
   "metadata": {},
   "outputs": [],
   "source": [
    "next(s)"
   ]
  },
  {
   "cell_type": "code",
   "execution_count": null,
   "id": "a63cccf7",
   "metadata": {},
   "outputs": [],
   "source": [
    "next(s)"
   ]
  },
  {
   "cell_type": "code",
   "execution_count": null,
   "id": "6bb13bb0",
   "metadata": {},
   "outputs": [],
   "source": [
    "next(s)"
   ]
  },
  {
   "cell_type": "code",
   "execution_count": null,
   "id": "0a2f8a08",
   "metadata": {},
   "outputs": [],
   "source": [
    "next(s)"
   ]
  },
  {
   "cell_type": "code",
   "execution_count": null,
   "id": "f6a39343",
   "metadata": {},
   "outputs": [],
   "source": [
    "next(s)"
   ]
  },
  {
   "cell_type": "code",
   "execution_count": null,
   "id": "c0173b81",
   "metadata": {},
   "outputs": [],
   "source": [
    "# for loop knows abt length when to stop hence we do not get the error in for loop.\n"
   ]
  },
  {
   "cell_type": "code",
   "execution_count": null,
   "id": "a38f4503",
   "metadata": {},
   "outputs": [],
   "source": [
    "t=(1,2,3,4,5,6)\n",
    "t=iter(t)"
   ]
  },
  {
   "cell_type": "code",
   "execution_count": null,
   "id": "89fdc080",
   "metadata": {},
   "outputs": [],
   "source": [
    "next(t)"
   ]
  },
  {
   "cell_type": "markdown",
   "id": "c0ba5d8f",
   "metadata": {},
   "source": [
    "### Generator"
   ]
  },
  {
   "cell_type": "code",
   "execution_count": null,
   "id": "a8a41280",
   "metadata": {},
   "outputs": [],
   "source": [
    "range(1,10)\n",
    "# it produces data from 1 to 9"
   ]
  },
  {
   "cell_type": "code",
   "execution_count": null,
   "id": "3d23dfe2",
   "metadata": {},
   "outputs": [],
   "source": [
    "list1=list(range(1,50))"
   ]
  },
  {
   "cell_type": "code",
   "execution_count": null,
   "id": "f4edf863",
   "metadata": {},
   "outputs": [],
   "source": [
    "list1"
   ]
  },
  {
   "cell_type": "code",
   "execution_count": null,
   "id": "739e1977",
   "metadata": {},
   "outputs": [],
   "source": [
    "# its like a generator that creates data for me..\n",
    "# how to create a generate a function which will be able to generate perticular function\n"
   ]
  },
  {
   "cell_type": "code",
   "execution_count": 4,
   "id": "b5445c04",
   "metadata": {},
   "outputs": [
    {
     "data": {
      "text/plain": [
       "[0, 1, 4, 9]"
      ]
     },
     "execution_count": 4,
     "metadata": {},
     "output_type": "execute_result"
    }
   ],
   "source": [
    "def square_f(list1):\n",
    "    sqr=[]\n",
    "    for i in list1:\n",
    "        sqr.append(i*i)   # 0 1 4 9\n",
    "    return sqr\n",
    "square_f(range(4)) # 0 3   0,1,2,3\n",
    "    \n"
   ]
  },
  {
   "cell_type": "code",
   "execution_count": 5,
   "id": "142566c3",
   "metadata": {},
   "outputs": [],
   "source": [
    "def square(n):\n",
    "    for i in range(n):# 0 1,2\n",
    "        return i**2\n",
    "    "
   ]
  },
  {
   "cell_type": "code",
   "execution_count": 6,
   "id": "d4e05475",
   "metadata": {},
   "outputs": [
    {
     "data": {
      "text/plain": [
       "0"
      ]
     },
     "execution_count": 6,
     "metadata": {},
     "output_type": "execute_result"
    }
   ],
   "source": [
    "square(3)"
   ]
  },
  {
   "cell_type": "code",
   "execution_count": 7,
   "id": "dee20b7d",
   "metadata": {},
   "outputs": [],
   "source": [
    "def square(n):\n",
    "    for i in range(n):\n",
    "        yield i**2"
   ]
  },
  {
   "cell_type": "code",
   "execution_count": 8,
   "id": "24c99d1f",
   "metadata": {},
   "outputs": [
    {
     "data": {
      "text/plain": [
       "<generator object square at 0x000001DB6ACC3F20>"
      ]
     },
     "execution_count": 8,
     "metadata": {},
     "output_type": "execute_result"
    }
   ],
   "source": [
    "square(3)"
   ]
  },
  {
   "cell_type": "code",
   "execution_count": 9,
   "id": "46c39939",
   "metadata": {},
   "outputs": [],
   "source": [
    "a=square(3)"
   ]
  },
  {
   "cell_type": "code",
   "execution_count": 10,
   "id": "18017ec7",
   "metadata": {},
   "outputs": [
    {
     "data": {
      "text/plain": [
       "<generator object square at 0x000001DB6ACC3C10>"
      ]
     },
     "execution_count": 10,
     "metadata": {},
     "output_type": "execute_result"
    }
   ],
   "source": [
    "a"
   ]
  },
  {
   "cell_type": "code",
   "execution_count": 14,
   "id": "f8fe3529",
   "metadata": {},
   "outputs": [
    {
     "ename": "StopIteration",
     "evalue": "",
     "output_type": "error",
     "traceback": [
      "\u001b[1;31m---------------------------------------------------------------------------\u001b[0m",
      "\u001b[1;31mStopIteration\u001b[0m                             Traceback (most recent call last)",
      "\u001b[1;32m~\\AppData\\Local\\Temp\\ipykernel_15592\\1242322984.py\u001b[0m in \u001b[0;36m<module>\u001b[1;34m\u001b[0m\n\u001b[1;32m----> 1\u001b[1;33m \u001b[0mnext\u001b[0m\u001b[1;33m(\u001b[0m\u001b[0ma\u001b[0m\u001b[1;33m)\u001b[0m\u001b[1;33m\u001b[0m\u001b[1;33m\u001b[0m\u001b[0m\n\u001b[0m",
      "\u001b[1;31mStopIteration\u001b[0m: "
     ]
    }
   ],
   "source": [
    "next(a)"
   ]
  },
  {
   "cell_type": "code",
   "execution_count": null,
   "id": "f1b6742a",
   "metadata": {},
   "outputs": [],
   "source": [
    "s"
   ]
  },
  {
   "cell_type": "markdown",
   "id": "d92f4605",
   "metadata": {},
   "source": [
    "### generators are basically used to create iterators."
   ]
  },
  {
   "cell_type": "markdown",
   "id": "b68034a1",
   "metadata": {},
   "source": [
    "### Difference\n",
    "1. To create iterator we use iter() and to generator we use function along with yield keyword\n",
    "2. Generator uses the yield keyword. It saves the local variable\n",
    "3. Generator in python helps us to write fast and compact code\n",
    "4. Python iterator is much more memory efficient\n",
    " "
   ]
  },
  {
   "cell_type": "code",
   "execution_count": null,
   "id": "cbdf1c9d",
   "metadata": {},
   "outputs": [],
   "source": [
    "# So yield keyword will take the values but give the values at the time of call only..\n",
    "# it will return an object "
   ]
  },
  {
   "cell_type": "code",
   "execution_count": null,
   "id": "9f726a5c",
   "metadata": {},
   "outputs": [],
   "source": [
    "square(3) # data has been generated"
   ]
  },
  {
   "cell_type": "code",
   "execution_count": null,
   "id": "82fce547",
   "metadata": {},
   "outputs": [],
   "source": [
    "# if i apply for loop on this will give us the data..\n",
    "for i in square(4): \n",
    "    print(i)"
   ]
  },
  {
   "cell_type": "code",
   "execution_count": null,
   "id": "68a2a5f6",
   "metadata": {},
   "outputs": [],
   "source": [
    "# generate febonacci series. using generator\n",
    "# sequense of a number 1,1+2,3+3,6+4...\n"
   ]
  },
  {
   "cell_type": "code",
   "execution_count": 15,
   "id": "643a1db3",
   "metadata": {},
   "outputs": [
    {
     "data": {
      "text/plain": [
       "[1, 1, 2, 3, 5, 8, 13, 21, 34, 55]"
      ]
     },
     "execution_count": 15,
     "metadata": {},
     "output_type": "execute_result"
    }
   ],
   "source": [
    "def genfib(n): # 10\n",
    "    a=1\n",
    "    b=1\n",
    "    l=[]\n",
    "    for i in range(n):  # 0 to 9 \n",
    "        l.append(a)  # a=1\n",
    "        a,b=b,a+b    # a=b,b=a+b  a=1,b=1+1\n",
    "    return l\n",
    "\n",
    "genfib(10)"
   ]
  },
  {
   "cell_type": "code",
   "execution_count": 16,
   "id": "e2ae5cee",
   "metadata": {},
   "outputs": [
    {
     "data": {
      "text/plain": [
       "<generator object genfib_yld at 0x000001DB6ACB70B0>"
      ]
     },
     "execution_count": 16,
     "metadata": {},
     "output_type": "execute_result"
    }
   ],
   "source": [
    "# egenerator that will \n",
    "def genfib_yld(n): # 10\n",
    "    a=1\n",
    "    b=1\n",
    "    for i in range(n):\n",
    "        yield a \n",
    "        a,b=b,a+b    # a=b,b=a+b  a=1,b=1+1\n",
    "     \n",
    "genfib_yld(10)"
   ]
  },
  {
   "cell_type": "code",
   "execution_count": 17,
   "id": "2462dc2b",
   "metadata": {},
   "outputs": [
    {
     "name": "stdout",
     "output_type": "stream",
     "text": [
      "1\n",
      "1\n",
      "2\n",
      "3\n",
      "5\n",
      "8\n",
      "13\n",
      "21\n",
      "34\n",
      "55\n"
     ]
    }
   ],
   "source": [
    "for i in genfib_yld(10):\n",
    "    print(i)"
   ]
  },
  {
   "cell_type": "code",
   "execution_count": null,
   "id": "89b9ca89",
   "metadata": {},
   "outputs": [],
   "source": []
  }
 ],
 "metadata": {
  "kernelspec": {
   "display_name": "Python 3 (ipykernel)",
   "language": "python",
   "name": "python3"
  },
  "language_info": {
   "codemirror_mode": {
    "name": "ipython",
    "version": 3
   },
   "file_extension": ".py",
   "mimetype": "text/x-python",
   "name": "python",
   "nbconvert_exporter": "python",
   "pygments_lexer": "ipython3",
   "version": "3.9.13"
  }
 },
 "nbformat": 4,
 "nbformat_minor": 5
}
